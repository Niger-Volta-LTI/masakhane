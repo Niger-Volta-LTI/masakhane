{
 "cells": [
  {
   "cell_type": "markdown",
   "metadata": {},
   "source": [
    "### Setting Up the data"
   ]
  },
  {
   "cell_type": "markdown",
   "metadata": {},
   "source": [
    "Downloading the french global test set is simple,\n",
    "we need to set english  and french as source and target language, then we find the intersection of the english test set with the english corpus after that we get the corresponding french sentencs from the french corpus"
   ]
  },
  {
   "cell_type": "code",
   "execution_count": 1,
   "metadata": {},
   "outputs": [],
   "source": [
    "import os\n",
    "source_language = \"en\"\n",
    "target_language = \"fr\" # ln is the language code of lingala \n",
    "lc = False  # If True, lowercase the data.\n",
    "seed = 42  # Random seed for shuffling.\n",
    "tag = \"baseline\" # Give a unique name to your folder - this is to ensure you don't rewrite any models you've already submitted\n",
    "\n",
    "os.environ[\"src\"] = source_language # Sets them in bash as well, since we often use bash scripts\n",
    "os.environ[\"tgt\"] = target_language\n",
    "os.environ[\"tag\"] = tag\n",
    "\n",
    "# No need to use gdrive since we are training on gcp\n",
    "!mkdir -p \"$src-$tgt-$tag\"\n",
    "os.environ[\"gdrive_path\"] = \"%s-%s-%s\" % (source_language, target_language, tag) # saving directly on the vm"
   ]
  },
  {
   "cell_type": "code",
   "execution_count": null,
   "metadata": {},
   "outputs": [],
   "source": [
    "!echo $gdrive_path"
   ]
  },
  {
   "cell_type": "markdown",
   "metadata": {},
   "source": [
    "#### Downloading the corpus data"
   ]
  },
  {
   "cell_type": "markdown",
   "metadata": {},
   "source": [
    "for precaution , am removing the old data"
   ]
  },
  {
   "cell_type": "code",
   "execution_count": 4,
   "metadata": {},
   "outputs": [],
   "source": [
    "!rm -f w300.$src jw300.$tgt JW300_latest_xml_$src-$tgt.xml.gz JW300_latest_xml_$src-$tgt.xml JW300_latest_xml_$src.zip  JW300_latest_xml_$tgt.zip"
   ]
  },
  {
   "cell_type": "code",
   "execution_count": 5,
   "metadata": {
    "scrolled": true
   },
   "outputs": [
    {
     "name": "stdout",
     "output_type": "stream",
     "text": [
      "\n",
      "Alignment file /proj/nlpl/data/OPUS/JW300/latest/xml/en-fr.xml.gz not found. The following files are available for downloading:\n",
      "\n",
      "  21 MB https://object.pouta.csc.fi/OPUS-JW300/v1/xml/en-fr.xml.gz\n",
      " 263 MB https://object.pouta.csc.fi/OPUS-JW300/v1/xml/en.zip\n",
      " 278 MB https://object.pouta.csc.fi/OPUS-JW300/v1/xml/fr.zip\n",
      "\n",
      " 563 MB Total size\n",
      "./JW300_latest_xml_en-fr.xml.gz ... 100% of 21 MB\n",
      "./JW300_latest_xml_en.zip ... 100% of 263 MB\n",
      "./JW300_latest_xml_fr.zip ... 100% of 278 MBip ... 8% of 278 MBfr.zip ... 39% of 278 MB\n"
     ]
    }
   ],
   "source": [
    "# Downloading our corpus\n",
    "! opus_read -d JW300 -s $src -t $tgt -wm moses -w jw300.$src jw300.$tgt -q\n",
    "\n",
    "# extract the corpus file\n",
    "! gunzip JW300_latest_xml_$src-$tgt.xml.gz"
   ]
  },
  {
   "cell_type": "code",
   "execution_count": 6,
   "metadata": {},
   "outputs": [
    {
     "name": "stdout",
     "output_type": "stream",
     "text": [
      "--2020-02-09 18:47:58--  https://raw.githubusercontent.com/juliakreutzer/masakhane/master/jw300_utils/test/test.en-any.en\n",
      "Resolving raw.githubusercontent.com (raw.githubusercontent.com)... 151.101.192.133, 151.101.128.133, 151.101.64.133, ...\n",
      "Connecting to raw.githubusercontent.com (raw.githubusercontent.com)|151.101.192.133|:443... connected.\n",
      "HTTP request sent, awaiting response... 200 OK\n",
      "Length: 277791 (271K) [text/plain]\n",
      "Saving to: ‘test.en-any.en.2’\n",
      "\n",
      "test.en-any.en.2    100%[===================>] 271.28K  --.-KB/s    in 0.04s   \n",
      "\n",
      "2020-02-09 18:47:58 (6.40 MB/s) - ‘test.en-any.en.2’ saved [277791/277791]\n",
      "\n"
     ]
    }
   ],
   "source": [
    "! wget https://raw.githubusercontent.com/juliakreutzer/masakhane/master/jw300_utils/test/test.en-any.en\n",
    "  \n",
    "# And the specific test set for this language pair.\n",
    "os.environ[\"trg\"] = target_language \n",
    "os.environ[\"src\"] = source_language "
   ]
  },
  {
   "cell_type": "code",
   "execution_count": 7,
   "metadata": {},
   "outputs": [
    {
     "name": "stdout",
     "output_type": "stream",
     "text": [
      "Loaded 3571 global test sentences to filter from the training/dev data.\n"
     ]
    }
   ],
   "source": [
    "# Read the test data to filter from train and dev splits.\n",
    "# Store english portion in set for quick filtering checks.\n",
    "en_test_sents = set()\n",
    "filter_test_sents = \"test.en-any.en\"\n",
    "j = 0\n",
    "with open(filter_test_sents) as f:\n",
    "  for line in f:\n",
    "    en_test_sents.add(line.strip())\n",
    "    j += 1\n",
    "print('Loaded {} global test sentences to filter from the training/dev data.'.format(j))"
   ]
  },
  {
   "cell_type": "code",
   "execution_count": 8,
   "metadata": {
    "scrolled": false
   },
   "outputs": [
    {
     "name": "stdout",
     "output_type": "stream",
     "text": [
      "JW300_latest_xml_en-fr.xml\t\t\t jw300.fr\r\n",
      "JW300_latest_xml_en.zip\t\t\t\t jw300.swc\r\n",
      "JW300_latest_xml_fr-swc.xml\t\t\t test.en\r\n",
      "JW300_latest_xml_fr.zip\t\t\t\t test.en-any.en\r\n",
      "JW300_latest_xml_swc.zip\t\t\t test.en-any.en.1\r\n",
      "baseline.ipynb\t\t\t\t\t test.en-any.en.2\r\n",
      "buiding_french_english_test_set.ipynb\t\t test.en-swc.en\r\n",
      "buiding_french_english_test_set_approach1.ipynb  test.en-swc.swc\r\n",
      "en-fr-baseline\t\t\t\t\t test.fr-swc.fr\r\n",
      "fr-swc-baseline\t\t\t\t\t test.fr-swc.swc\r\n",
      "jw300.en\t\t\t\t\t test.swc\r\n"
     ]
    }
   ],
   "source": [
    "!ls"
   ]
  },
  {
   "cell_type": "markdown",
   "metadata": {},
   "source": [
    "#### Building the corpus"
   ]
  },
  {
   "cell_type": "markdown",
   "metadata": {},
   "source": [
    "For those who knows french , in the 2 cells bellows am checking if the 2 dataset are aligned"
   ]
  },
  {
   "cell_type": "code",
   "execution_count": 9,
   "metadata": {
    "scrolled": true
   },
   "outputs": [
    {
     "name": "stdout",
     "output_type": "stream",
     "text": [
      "“ A Good Word for the Witnesses ”\r\n",
      "THE preaching activity of Jehovah’s witnesses is growing very rapidly .\r\n",
      "This has required a large expansion of facilities at their international headquarters in Brooklyn , New York .\r\n",
      "The expansion is arousing much comment in the community , even prompting a sermon at the Plymouth Church ( Congregational ) , located just two blocks away .\r\n",
      "More than a century ago , the church’s first minister , Henry Ward Beecher , lived on property that is now part of the Watchtower Society’s headquarters complex .\r\n"
     ]
    }
   ],
   "source": [
    "! head -5 jw300.en"
   ]
  },
  {
   "cell_type": "code",
   "execution_count": 10,
   "metadata": {},
   "outputs": [
    {
     "name": "stdout",
     "output_type": "stream",
     "text": [
      "“ Éloge des Témoins ”\r\n",
      "L’ŒUVRE de prédication des témoins de Jéhovah s’étend rapidement .\r\n",
      "Cette extension a exigé l’agrandissement de leur siège principal situé à Brooklyn , New York .\r\n",
      "Pareille expansion suscite de nombreux commentaires dans la localité et a même été l’objet d’un prêche prononcé dans le temple Plymouth ( de l’Église congrégationaliste ) , situé à deux pâtés de maisons du siège des témoins de Jéhovah .\r\n",
      "Il y a plus d’un siècle , le premier pasteur de ce temple , Henry Ward Beecher , habitait une maison qui fait partie aujourd’hui de l’ensemble des bâtiments appartenant à la Société Watchtower .\r\n"
     ]
    }
   ],
   "source": [
    "! head -5 jw300.fr"
   ]
  },
  {
   "cell_type": "code",
   "execution_count": 11,
   "metadata": {},
   "outputs": [
    {
     "name": "stdout",
     "output_type": "stream",
     "text": [
      "Loaded data and skipped 10612/2304442 lines since contained in test set.\n"
     ]
    },
    {
     "data": {
      "text/html": [
       "<div>\n",
       "<style scoped>\n",
       "    .dataframe tbody tr th:only-of-type {\n",
       "        vertical-align: middle;\n",
       "    }\n",
       "\n",
       "    .dataframe tbody tr th {\n",
       "        vertical-align: top;\n",
       "    }\n",
       "\n",
       "    .dataframe thead th {\n",
       "        text-align: right;\n",
       "    }\n",
       "</style>\n",
       "<table border=\"1\" class=\"dataframe\">\n",
       "  <thead>\n",
       "    <tr style=\"text-align: right;\">\n",
       "      <th></th>\n",
       "      <th>source_sentence</th>\n",
       "      <th>target_sentence</th>\n",
       "    </tr>\n",
       "  </thead>\n",
       "  <tbody>\n",
       "    <tr>\n",
       "      <th>0</th>\n",
       "      <td>“ A Good Word for the Witnesses ”</td>\n",
       "      <td>“ Éloge des Témoins ”</td>\n",
       "    </tr>\n",
       "    <tr>\n",
       "      <th>1</th>\n",
       "      <td>THE preaching activity of Jehovah’s witnesses ...</td>\n",
       "      <td>L’ŒUVRE de prédication des témoins de Jéhovah ...</td>\n",
       "    </tr>\n",
       "    <tr>\n",
       "      <th>2</th>\n",
       "      <td>This has required a large expansion of facilit...</td>\n",
       "      <td>Cette extension a exigé l’agrandissement de le...</td>\n",
       "    </tr>\n",
       "    <tr>\n",
       "      <th>3</th>\n",
       "      <td>The expansion is arousing much comment in the ...</td>\n",
       "      <td>Pareille expansion suscite de nombreux comment...</td>\n",
       "    </tr>\n",
       "    <tr>\n",
       "      <th>4</th>\n",
       "      <td>More than a century ago , the church’s first m...</td>\n",
       "      <td>Il y a plus d’un siècle , le premier pasteur d...</td>\n",
       "    </tr>\n",
       "    <tr>\n",
       "      <th>5</th>\n",
       "      <td>The sermon was delivered by Dr . Harry H . Kru...</td>\n",
       "      <td>Le prêche en question , prononcé par le pasteu...</td>\n",
       "    </tr>\n",
       "    <tr>\n",
       "      <th>6</th>\n",
       "      <td>At the outset he declared : “ I have to say th...</td>\n",
       "      <td>L’orateur commença par déclarer : “ Je dois di...</td>\n",
       "    </tr>\n",
       "    <tr>\n",
       "      <th>7</th>\n",
       "      <td>However , he then commented : “ But I can stil...</td>\n",
       "      <td>Il poursuivit toutefois en disant : “ Mais je ...</td>\n",
       "    </tr>\n",
       "    <tr>\n",
       "      <th>8</th>\n",
       "      <td>He said :</td>\n",
       "      <td>Il déclara alors :</td>\n",
       "    </tr>\n",
       "    <tr>\n",
       "      <th>9</th>\n",
       "      <td>I admire the Witnesses for talking about their...</td>\n",
       "      <td>“ J’admire les témoins parce qu’ils parlent de...</td>\n",
       "    </tr>\n",
       "  </tbody>\n",
       "</table>\n",
       "</div>"
      ],
      "text/plain": [
       "                                     source_sentence  \\\n",
       "0                  “ A Good Word for the Witnesses ”   \n",
       "1  THE preaching activity of Jehovah’s witnesses ...   \n",
       "2  This has required a large expansion of facilit...   \n",
       "3  The expansion is arousing much comment in the ...   \n",
       "4  More than a century ago , the church’s first m...   \n",
       "5  The sermon was delivered by Dr . Harry H . Kru...   \n",
       "6  At the outset he declared : “ I have to say th...   \n",
       "7  However , he then commented : “ But I can stil...   \n",
       "8                                          He said :   \n",
       "9  I admire the Witnesses for talking about their...   \n",
       "\n",
       "                                     target_sentence  \n",
       "0                              “ Éloge des Témoins ”  \n",
       "1  L’ŒUVRE de prédication des témoins de Jéhovah ...  \n",
       "2  Cette extension a exigé l’agrandissement de le...  \n",
       "3  Pareille expansion suscite de nombreux comment...  \n",
       "4  Il y a plus d’un siècle , le premier pasteur d...  \n",
       "5  Le prêche en question , prononcé par le pasteu...  \n",
       "6  L’orateur commença par déclarer : “ Je dois di...  \n",
       "7  Il poursuivit toutefois en disant : “ Mais je ...  \n",
       "8                                 Il déclara alors :  \n",
       "9  “ J’admire les témoins parce qu’ils parlent de...  "
      ]
     },
     "execution_count": 11,
     "metadata": {},
     "output_type": "execute_result"
    }
   ],
   "source": [
    "import pandas as pd\n",
    "\n",
    "# TMX file to dataframe\n",
    "source_file = 'jw300.' + source_language  ## source language is english\n",
    "target_file = 'jw300.' + target_language ## Target is french\n",
    "french_test = {}\n",
    "source = []\n",
    "target = []\n",
    "english_sentences_in_global_test_set = {}  # Collect the line numbers of the source portion to skip the same lines for the target portion.\n",
    "with open(source_file) as src_f:\n",
    "    for i, line in enumerate(src_f):\n",
    "        # Skip sentences that are contained in the test set and add them into the new frencg test\n",
    "        if line.strip() not in en_test_sents:\n",
    "            source.append(line.strip())\n",
    "        else:\n",
    "            # TODOS : Here is the intersection with the global test set\n",
    "            english_sentences_in_global_test_set[i] = line.strip()           \n",
    "with open(target_file) as f:\n",
    "    for j, line in enumerate(f):\n",
    "        # Only add to corpus if corresponding source was not skipped.\n",
    "        if j not in english_sentences_in_global_test_set.keys():\n",
    "            target.append(line.strip())\n",
    "        else:\n",
    "            #TODOS : Collecting the aligned test sentences\n",
    "            french_test[j] = line.strip()\n",
    "    \n",
    "print('Loaded data and skipped {}/{} lines since contained in test set.'.format(len(english_sentences_in_global_test_set.keys()), i))\n",
    "    \n",
    "df = pd.DataFrame(zip(source, target), columns=['source_sentence', 'target_sentence'])\n",
    "# if you get TypeError: data argument can't be an iterator is because of your zip version run this below\n",
    "#df = pd.DataFrame(list(zip(source, target)), columns=['source_sentence', 'target_sentence'])\n",
    "df.head(10)"
   ]
  },
  {
   "cell_type": "code",
   "execution_count": 12,
   "metadata": {
    "scrolled": true
   },
   "outputs": [
    {
     "data": {
      "text/plain": [
       "'Et pourquoi pas ?'"
      ]
     },
     "execution_count": 12,
     "metadata": {},
     "output_type": "execute_result"
    }
   ],
   "source": [
    "french_test[6794]"
   ]
  },
  {
   "cell_type": "code",
   "execution_count": 13,
   "metadata": {},
   "outputs": [
    {
     "data": {
      "text/plain": [
       "'Why not ?'"
      ]
     },
     "execution_count": 13,
     "metadata": {},
     "output_type": "execute_result"
    }
   ],
   "source": [
    "english_sentences_in_global_test_set[6794]"
   ]
  },
  {
   "cell_type": "code",
   "execution_count": 15,
   "metadata": {},
   "outputs": [],
   "source": [
    "french_test_set = pd.DataFrame(zip(french_test.values(), english_sentences_in_global_test_set.values()), columns=['french_equivalent', 'english_equivalent'])"
   ]
  },
  {
   "cell_type": "code",
   "execution_count": 16,
   "metadata": {},
   "outputs": [],
   "source": [
    "french_test_set = french_test_set.reset_index()"
   ]
  },
  {
   "cell_type": "code",
   "execution_count": 21,
   "metadata": {},
   "outputs": [],
   "source": [
    "french_test_set = french_test_set.set_index(\"index\")"
   ]
  },
  {
   "cell_type": "code",
   "execution_count": 22,
   "metadata": {},
   "outputs": [
    {
     "data": {
      "text/html": [
       "<div>\n",
       "<style scoped>\n",
       "    .dataframe tbody tr th:only-of-type {\n",
       "        vertical-align: middle;\n",
       "    }\n",
       "\n",
       "    .dataframe tbody tr th {\n",
       "        vertical-align: top;\n",
       "    }\n",
       "\n",
       "    .dataframe thead th {\n",
       "        text-align: right;\n",
       "    }\n",
       "</style>\n",
       "<table border=\"1\" class=\"dataframe\">\n",
       "  <thead>\n",
       "    <tr style=\"text-align: right;\">\n",
       "      <th></th>\n",
       "      <th>french_equivalent</th>\n",
       "      <th>english_equivalent</th>\n",
       "    </tr>\n",
       "    <tr>\n",
       "      <th>index</th>\n",
       "      <th></th>\n",
       "      <th></th>\n",
       "    </tr>\n",
       "  </thead>\n",
       "  <tbody>\n",
       "    <tr>\n",
       "      <th>10607</th>\n",
       "      <td>» Mais un mois plus tard , ils ont reçu une no...</td>\n",
       "      <td>But then , a month later , they received thril...</td>\n",
       "    </tr>\n",
       "    <tr>\n",
       "      <th>10608</th>\n",
       "      <td>Míriam explique : « On nous a proposé d’être p...</td>\n",
       "      <td>Miriam says : “ We were invited to serve as sp...</td>\n",
       "    </tr>\n",
       "    <tr>\n",
       "      <th>10609</th>\n",
       "      <td>Quelle joie de pouvoir rester dans notre terri...</td>\n",
       "      <td>What a joy to be able to stay in our assignmen...</td>\n",
       "    </tr>\n",
       "    <tr>\n",
       "      <th>10610</th>\n",
       "      <td>Ils ont fait confiance à la promesse de Psaume...</td>\n",
       "      <td>They trusted in the promise found at Psalm 37 ...</td>\n",
       "    </tr>\n",
       "    <tr>\n",
       "      <th>10611</th>\n",
       "      <td>Aujourd’hui , on voit bien que oui , et on ne ...</td>\n",
       "      <td>Today we do , and we lack nothing of real impo...</td>\n",
       "    </tr>\n",
       "  </tbody>\n",
       "</table>\n",
       "</div>"
      ],
      "text/plain": [
       "                                       french_equivalent  \\\n",
       "index                                                      \n",
       "10607  » Mais un mois plus tard , ils ont reçu une no...   \n",
       "10608  Míriam explique : « On nous a proposé d’être p...   \n",
       "10609  Quelle joie de pouvoir rester dans notre terri...   \n",
       "10610  Ils ont fait confiance à la promesse de Psaume...   \n",
       "10611  Aujourd’hui , on voit bien que oui , et on ne ...   \n",
       "\n",
       "                                      english_equivalent  \n",
       "index                                                     \n",
       "10607  But then , a month later , they received thril...  \n",
       "10608  Miriam says : “ We were invited to serve as sp...  \n",
       "10609  What a joy to be able to stay in our assignmen...  \n",
       "10610  They trusted in the promise found at Psalm 37 ...  \n",
       "10611  Today we do , and we lack nothing of real impo...  "
      ]
     },
     "execution_count": 22,
     "metadata": {},
     "output_type": "execute_result"
    }
   ],
   "source": [
    "french_test_set.tail()"
   ]
  },
  {
   "cell_type": "markdown",
   "metadata": {},
   "source": [
    "Removing duplicates from english and french set"
   ]
  },
  {
   "cell_type": "code",
   "execution_count": 24,
   "metadata": {},
   "outputs": [],
   "source": [
    "french_test_set = french_test_set.drop_duplicates(subset='french_equivalent')"
   ]
  },
  {
   "cell_type": "code",
   "execution_count": 26,
   "metadata": {},
   "outputs": [],
   "source": [
    "french_test_set = french_test_set.drop_duplicates(subset='english_equivalent')"
   ]
  },
  {
   "cell_type": "code",
   "execution_count": 27,
   "metadata": {},
   "outputs": [
    {
     "data": {
      "text/html": [
       "<div>\n",
       "<style scoped>\n",
       "    .dataframe tbody tr th:only-of-type {\n",
       "        vertical-align: middle;\n",
       "    }\n",
       "\n",
       "    .dataframe tbody tr th {\n",
       "        vertical-align: top;\n",
       "    }\n",
       "\n",
       "    .dataframe thead th {\n",
       "        text-align: right;\n",
       "    }\n",
       "</style>\n",
       "<table border=\"1\" class=\"dataframe\">\n",
       "  <thead>\n",
       "    <tr style=\"text-align: right;\">\n",
       "      <th></th>\n",
       "      <th>french_equivalent</th>\n",
       "      <th>english_equivalent</th>\n",
       "    </tr>\n",
       "    <tr>\n",
       "      <th>index</th>\n",
       "      <th></th>\n",
       "      <th></th>\n",
       "    </tr>\n",
       "  </thead>\n",
       "  <tbody>\n",
       "    <tr>\n",
       "      <th>0</th>\n",
       "      <td>Et pourquoi pas ?</td>\n",
       "      <td>Why not ?</td>\n",
       "    </tr>\n",
       "    <tr>\n",
       "      <th>2</th>\n",
       "      <td>Non .</td>\n",
       "      <td>No .</td>\n",
       "    </tr>\n",
       "    <tr>\n",
       "      <th>5</th>\n",
       "      <td>Je vais lui faire une aide qui soit son complé...</td>\n",
       "      <td>I am going to make a helper for him , as a com...</td>\n",
       "    </tr>\n",
       "    <tr>\n",
       "      <th>6</th>\n",
       "      <td>Mais un autre rouleau fut ouvert ; c’est le ro...</td>\n",
       "      <td>But another scroll was opened ; it is the scro...</td>\n",
       "    </tr>\n",
       "    <tr>\n",
       "      <th>20</th>\n",
       "      <td>Comment le savons - ​ nous ?</td>\n",
       "      <td>How do we know ?</td>\n",
       "    </tr>\n",
       "  </tbody>\n",
       "</table>\n",
       "</div>"
      ],
      "text/plain": [
       "                                       french_equivalent  \\\n",
       "index                                                      \n",
       "0                                      Et pourquoi pas ?   \n",
       "2                                                  Non .   \n",
       "5      Je vais lui faire une aide qui soit son complé...   \n",
       "6      Mais un autre rouleau fut ouvert ; c’est le ro...   \n",
       "20                          Comment le savons - ​ nous ?   \n",
       "\n",
       "                                      english_equivalent  \n",
       "index                                                     \n",
       "0                                              Why not ?  \n",
       "2                                                   No .  \n",
       "5      I am going to make a helper for him , as a com...  \n",
       "6      But another scroll was opened ; it is the scro...  \n",
       "20                                      How do we know ?  "
      ]
     },
     "execution_count": 27,
     "metadata": {},
     "output_type": "execute_result"
    }
   ],
   "source": [
    "french_test_set.head()"
   ]
  },
  {
   "cell_type": "code",
   "execution_count": 28,
   "metadata": {},
   "outputs": [
    {
     "data": {
      "text/plain": [
       "(3332, 2)"
      ]
     },
     "execution_count": 28,
     "metadata": {},
     "output_type": "execute_result"
    }
   ],
   "source": [
    "french_test_set.shape"
   ]
  },
  {
   "cell_type": "code",
   "execution_count": 31,
   "metadata": {},
   "outputs": [
    {
     "data": {
      "text/html": [
       "<div>\n",
       "<style scoped>\n",
       "    .dataframe tbody tr th:only-of-type {\n",
       "        vertical-align: middle;\n",
       "    }\n",
       "\n",
       "    .dataframe tbody tr th {\n",
       "        vertical-align: top;\n",
       "    }\n",
       "\n",
       "    .dataframe thead th {\n",
       "        text-align: right;\n",
       "    }\n",
       "</style>\n",
       "<table border=\"1\" class=\"dataframe\">\n",
       "  <thead>\n",
       "    <tr style=\"text-align: right;\">\n",
       "      <th></th>\n",
       "      <th>french_equivalent</th>\n",
       "      <th>english_equivalent</th>\n",
       "    </tr>\n",
       "    <tr>\n",
       "      <th>index</th>\n",
       "      <th></th>\n",
       "      <th></th>\n",
       "    </tr>\n",
       "  </thead>\n",
       "  <tbody>\n",
       "  </tbody>\n",
       "</table>\n",
       "</div>"
      ],
      "text/plain": [
       "Empty DataFrame\n",
       "Columns: [french_equivalent, english_equivalent]\n",
       "Index: []"
      ]
     },
     "execution_count": 31,
     "metadata": {},
     "output_type": "execute_result"
    }
   ],
   "source": [
    "french_test_set.loc[~french_test_set.english_equivalent.isin(en_test_sents)]"
   ]
  },
  {
   "cell_type": "code",
   "execution_count": 32,
   "metadata": {},
   "outputs": [],
   "source": [
    "with open(\"test.fr-any.fr\", \"w\") as test_fr_any_fr:\n",
    "    test_fr_any_fr.write(\"\\n\".join(french_test_set.french_equivalent))"
   ]
  },
  {
   "cell_type": "code",
   "execution_count": 34,
   "metadata": {},
   "outputs": [
    {
     "name": "stdout",
     "output_type": "stream",
     "text": [
      "Et pourquoi pas ?\r\n",
      "Non .\r\n",
      "Je vais lui faire une aide qui soit son complément . ”\r\n",
      "Mais un autre rouleau fut ouvert ; c’est le rouleau de vie .\r\n",
      "Comment le savons - ​ nous ?\r\n"
     ]
    }
   ],
   "source": [
    "!head -5 test.fr-any.fr"
   ]
  },
  {
   "cell_type": "code",
   "execution_count": null,
   "metadata": {},
   "outputs": [],
   "source": []
  }
 ],
 "metadata": {
  "kernelspec": {
   "display_name": "Python 3",
   "language": "python",
   "name": "python3"
  },
  "language_info": {
   "codemirror_mode": {
    "name": "ipython",
    "version": 3
   },
   "file_extension": ".py",
   "mimetype": "text/x-python",
   "name": "python",
   "nbconvert_exporter": "python",
   "pygments_lexer": "ipython3",
   "version": "3.6.8"
  }
 },
 "nbformat": 4,
 "nbformat_minor": 2
}
